{
 "cells": [
  {
   "cell_type": "code",
   "execution_count": 1,
   "metadata": {},
   "outputs": [
    {
     "name": "stderr",
     "output_type": "stream",
     "text": [
      "Using TensorFlow backend.\n"
     ]
    }
   ],
   "source": [
    "import os\n",
    "import numpy as np\n",
    "import pandas as pd\n",
    "import re\n",
    "from sklearn.model_selection import train_test_split\n",
    "import tensorflow as tf\n",
    "import keras\n",
    "from keras.models import Model\n",
    "from keras.layers import *\n",
    "from keras import optimizers\n",
    "import matplotlib.pyplot as plt\n",
    "import nltk  \n",
    "from nltk.corpus import stopwords\n",
    "from tensorflow.keras.preprocessing.text import Tokenizer\n",
    "from tensorflow.keras.preprocessing.sequence import pad_sequences\n",
    "from keras.callbacks import ReduceLROnPlateau"
   ]
  },
  {
   "cell_type": "code",
   "execution_count": 2,
   "metadata": {},
   "outputs": [],
   "source": [
    "def plot_accuracy_epoch(epochs,metric1,metric2):\n",
    "    fig, ax1 = plt.subplots()\n",
    "    color = 'tab:red'\n",
    "    ax1.set_xlabel('Epochs')\n",
    "    ax1.set_ylabel('Training Loss', color=color)\n",
    "    ax1.plot(epochs, metric1, color=color)\n",
    "    ax1.tick_params(axis='y', labelcolor=color)\n",
    "    \n",
    "    ax2 = ax1.twinx()  # instantiate a second axes that shares the same x-axis\n",
    "    \n",
    "    color = 'tab:blue'\n",
    "    ax2.set_ylabel('Validation Loss', color=color)  # we already handled the x-label with ax1\n",
    "    ax2.plot(epochs, metric2, color=color)\n",
    "    ax2.tick_params(axis='y', labelcolor=color)\n",
    "    \n",
    "    fig.tight_layout()  # otherwise the right y-label is slightly clipped\n",
    "    plt.title('Training and Validation set losses')\n",
    "    plt.show()\n",
    "\n",
    "def plot_zoom(from_epoch,metric1,metric2):\n",
    "    epochs_zoom = epochs[from_epoch:]\n",
    "    metric1_zoom = metric1[from_epoch:]\n",
    "    metric2_zoom = metric2[from_epoch:]\n",
    "\n",
    "    plot_accuracy_epoch(epochs_zoom,metric1_zoom,metric2_zoom)  \n",
    "    \n",
    "\n",
    "def cleaned(text):\n",
    "    text = re.sub(r\"\\n\",\"\",text)\n",
    "    text = text.lower()\n",
    "    text = re.sub(r\"\\d\",\"\",text)        #Remove digits\n",
    "    text = re.sub(r'[^\\x00-\\x7f]',r' ',text) # remove non-ascii\n",
    "    text = re.sub(r'[^\\w\\s]','',text) #Remove punctuation\n",
    "    text = re.sub(r'http\\S+|www.\\S+', '', text) #Remove http\n",
    "    text = re.sub('[^a-zA-Z]', ' ', text) #replace non-letters with space \n",
    "    text = text.split()      \n",
    "    text = [w for w in text if not w in set(stopwords.words('english'))] \n",
    "    text = ' '.join(text) \n",
    "    return text\n",
    "\n",
    "seed=12"
   ]
  },
  {
   "cell_type": "code",
   "execution_count": 3,
   "metadata": {},
   "outputs": [],
   "source": [
    "train_data=pd.read_csv(\"train.csv\")\n",
    "test_data=pd.read_csv(\"test.csv\")\n",
    "submission=pd.read_csv(\"sample_submission.csv\")"
   ]
  },
  {
   "cell_type": "code",
   "execution_count": 4,
   "metadata": {},
   "outputs": [],
   "source": [
    "train_data['cleaned'] = train_data['text'].apply(lambda x : cleaned(x))\n",
    "test_data['cleaned'] = test_data['text'].apply(lambda x : cleaned(x))\n",
    "\n",
    "train_features = train_data['cleaned'].to_numpy()\n",
    "train_label = train_data['target'].to_numpy()\n",
    "X_test = test_data['cleaned'].to_numpy()"
   ]
  },
  {
   "cell_type": "code",
   "execution_count": 5,
   "metadata": {},
   "outputs": [],
   "source": [
    "X_train, X_cv, y_train, y_cv = train_test_split(train_features, train_label, test_size = 0.2, random_state = seed)"
   ]
  },
  {
   "cell_type": "code",
   "execution_count": 6,
   "metadata": {},
   "outputs": [],
   "source": [
    "vocab_size = 10000\n",
    "embedding_dim = 16\n",
    "max_length = 30 #max([max([len(i.split()) for i in X_test]), max([len(i.split()) for i in X_cv]), max([len(i.split()) for i in X_train])])\n",
    "trunc_type='post'\n",
    "padding_type='post'\n",
    "oov_tok = \"<OOV>\""
   ]
  },
  {
   "cell_type": "code",
   "execution_count": 7,
   "metadata": {},
   "outputs": [
    {
     "name": "stdout",
     "output_type": "stream",
     "text": [
      "14674\n"
     ]
    }
   ],
   "source": [
    "tokenizer = Tokenizer(num_words = vocab_size, oov_token=oov_tok)\n",
    "tokenizer.fit_on_texts(X_train)\n",
    "word_index = tokenizer.word_index\n",
    "print(len(word_index))\n",
    "\n",
    "train_sequences = tokenizer.texts_to_sequences(X_train)\n",
    "train_padded = pad_sequences(train_sequences, padding=padding_type, maxlen=max_length)\n",
    "\n",
    "validation_sequences = tokenizer.texts_to_sequences(X_cv)\n",
    "validation_padded = pad_sequences(validation_sequences, padding=padding_type, maxlen=max_length)\n",
    "\n",
    "full_train_sequences = tokenizer.texts_to_sequences(train_features)\n",
    "full_train_padded = pad_sequences(full_train_sequences, padding=padding_type, maxlen=max_length)"
   ]
  },
  {
   "cell_type": "code",
   "execution_count": 8,
   "metadata": {},
   "outputs": [
    {
     "name": "stdout",
     "output_type": "stream",
     "text": [
      "Model: \"sequential\"\n",
      "_________________________________________________________________\n",
      "Layer (type)                 Output Shape              Param #   \n",
      "=================================================================\n",
      "embedding (Embedding)        (None, 30, 16)            160000    \n",
      "_________________________________________________________________\n",
      "global_average_pooling1d (Gl (None, 16)                0         \n",
      "_________________________________________________________________\n",
      "dense (Dense)                (None, 14)                238       \n",
      "_________________________________________________________________\n",
      "dropout (Dropout)            (None, 14)                0         \n",
      "_________________________________________________________________\n",
      "dense_1 (Dense)              (None, 1)                 15        \n",
      "=================================================================\n",
      "Total params: 160,253\n",
      "Trainable params: 160,253\n",
      "Non-trainable params: 0\n",
      "_________________________________________________________________\n"
     ]
    }
   ],
   "source": [
    "model = tf.keras.Sequential([\n",
    "    tf.keras.layers.Embedding(vocab_size, embedding_dim, input_length=max_length),\n",
    "    tf.keras.layers.GlobalAveragePooling1D(),\n",
    "    # tf.keras.layers.Bidirectional(tf.keras.layers.LSTM(64, return_sequences=True)),\n",
    "    # tf.keras.layers.Bidirectional(tf.keras.layers.LSTM(32)),\n",
    "    tf.keras.layers.Dense(14, activation='relu'),\n",
    "    tf.keras.layers.Dropout(0.5),\n",
    "    # tf.keras.layers.Dense(6, activation='relu'),\n",
    "    # tf.keras.layers.Dropout(0.5),\n",
    "    tf.keras.layers.Dense(1, activation='sigmoid')\n",
    "])\n",
    "model.compile(loss='binary_crossentropy',optimizer=tf.keras.optimizers.Adam(),metrics=['accuracy'])\n",
    "reduce_lr = ReduceLROnPlateau(monitor='val_loss', factor=0.5,patience=1, min_lr=1e-5)\n",
    "model.summary()"
   ]
  },
  {
   "cell_type": "code",
   "execution_count": 9,
   "metadata": {},
   "outputs": [
    {
     "name": "stdout",
     "output_type": "stream",
     "text": [
      "Train on 6090 samples, validate on 1523 samples\n",
      "Epoch 1/5\n",
      "6090/6090 [==============================] - 4s 608us/sample - loss: 0.6846 - accuracy: 0.5626 - val_loss: 0.6716 - val_accuracy: 0.5850\n",
      "Epoch 2/5\n",
      "6090/6090 [==============================] - 1s 91us/sample - loss: 0.6564 - accuracy: 0.6179 - val_loss: 0.6210 - val_accuracy: 0.6678\n",
      "Epoch 3/5\n",
      "6090/6090 [==============================] - 0s 80us/sample - loss: 0.5548 - accuracy: 0.7594 - val_loss: 0.5278 - val_accuracy: 0.7984\n",
      "Epoch 4/5\n",
      "6090/6090 [==============================] - 0s 82us/sample - loss: 0.4474 - accuracy: 0.8213 - val_loss: 0.4731 - val_accuracy: 0.8024\n",
      "Epoch 5/5\n",
      "6090/6090 [==============================] - 0s 77us/sample - loss: 0.3800 - accuracy: 0.8509 - val_loss: 0.4618 - val_accuracy: 0.7925\n"
     ]
    }
   ],
   "source": [
    "num_epochs = 5\n",
    "history_nn=model.fit(train_padded, y_train, epochs=num_epochs, validation_data=(validation_padded, y_cv),callbacks=[reduce_lr])"
   ]
  },
  {
   "cell_type": "code",
   "execution_count": 10,
   "metadata": {},
   "outputs": [
    {
     "data": {
      "image/png": "[encoded data removed]",
      "text/plain": [
       "<Figure size 432x288 with 2 Axes>"
      ]
     },
     "metadata": {
      "needs_background": "light"
     },
     "output_type": "display_data"
    },
    {
     "data": {
      "image/png": "[encoded data removed]",
      "text/plain": [
       "<Figure size 432x288 with 2 Axes>"
      ]
     },
     "metadata": {
      "needs_background": "light"
     },
     "output_type": "display_data"
    }
   ],
   "source": [
    "train_loss=history_nn.history['loss']\n",
    "valid_loss=history_nn.history['val_loss']\n",
    "epochs=range(len(train_loss))\n",
    "\n",
    "plot_accuracy_epoch(epochs,train_loss,valid_loss)\n",
    "plot_zoom(int(0.8*num_epochs),train_loss,valid_loss)"
   ]
  },
  {
   "cell_type": "code",
   "execution_count": 11,
   "metadata": {},
   "outputs": [
    {
     "name": "stdout",
     "output_type": "stream",
     "text": [
      "Train on 7613 samples\n",
      "Epoch 1/5\n",
      "7613/7613 [==============================] - 0s 64us/sample - loss: 0.3626 - accuracy: 0.8497\n",
      "Epoch 2/5\n",
      "7613/7613 [==============================] - 0s 63us/sample - loss: 0.3255 - accuracy: 0.8702\n",
      "Epoch 3/5\n",
      "7613/7613 [==============================] - 0s 65us/sample - loss: 0.2979 - accuracy: 0.8803\n",
      "Epoch 4/5\n",
      "7613/7613 [==============================] - 0s 64us/sample - loss: 0.2785 - accuracy: 0.8901\n",
      "Epoch 5/5\n",
      "7613/7613 [==============================] - 0s 65us/sample - loss: 0.2564 - accuracy: 0.8973s - loss: 0.2684 - ac\n"
     ]
    }
   ],
   "source": [
    "num_epochs = 5\n",
    "history_nn=model.fit(full_train_padded, train_label, epochs=num_epochs)"
   ]
  },
  {
   "cell_type": "code",
   "execution_count": 12,
   "metadata": {},
   "outputs": [],
   "source": [
    "testing_sequences = tokenizer.texts_to_sequences(X_test)\n",
    "testing_padded = pad_sequences(testing_sequences, maxlen=max_length, padding=padding_type, truncating=trunc_type)\n",
    "\n",
    "predictions = model.predict(testing_padded)\n",
    "submission['target'] = (predictions > 0.5).astype(int)\n",
    "submission.to_csv(\"submission.csv\", index=False, header=True)"
   ]
  },
  {
   "cell_type": "code",
   "execution_count": null,
   "metadata": {},
   "outputs": [],
   "source": []
  }
 ],
 "metadata": {
  "kernelspec": {
   "display_name": "Python 3",
   "language": "python",
   "name": "python3"
  },
  "language_info": {
   "codemirror_mode": {
    "name": "ipython",
    "version": 3
   },
   "file_extension": ".py",
   "mimetype": "text/x-python",
   "name": "python",
   "nbconvert_exporter": "python",
   "pygments_lexer": "ipython3",
   "version": "3.7.7"
  }
 },
 "nbformat": 4,
 "nbformat_minor": 4
}
